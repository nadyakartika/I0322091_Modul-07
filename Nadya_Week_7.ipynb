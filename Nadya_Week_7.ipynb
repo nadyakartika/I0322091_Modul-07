{
  "nbformat": 4,
  "nbformat_minor": 0,
  "metadata": {
    "colab": {
      "provenance": []
    },
    "kernelspec": {
      "name": "python3",
      "display_name": "Python 3"
    },
    "language_info": {
      "name": "python"
    }
  },
  "cells": [
    {
      "cell_type": "code",
      "execution_count": 1,
      "metadata": {
        "colab": {
          "base_uri": "https://localhost:8080/"
        },
        "id": "ybTXBGsylQgD",
        "outputId": "41d148cb-8518-4fdb-867c-f5c56ee2068e"
      },
      "outputs": [
        {
          "output_type": "stream",
          "name": "stdout",
          "text": [
            "[[ 812  718 2034]\n",
            " [ 892  652 2052]\n",
            " [ 348  220  756]]\n",
            "[[ 3.06654991 -2.0262697  -1.4938704 ]\n",
            " [-1.0262697   1.58931699  0.37915937]\n",
            " [-1.48861646  1.56129597  0.65236427]]\n"
          ]
        }
      ],
      "source": [
        "# buatlah 2 buah matrix\n",
        "matrix1 = [[24,12,7],[15,13,17],[3,5,9]]\n",
        "matrix2 = [[8,10,30],[12,7,9],[10,5,27]]\n",
        "\n",
        "import numpy as np\n",
        "#soal 1 2(a*b)\n",
        "matrixA = np.array(matrix1)\n",
        "matrixB = np.array(matrix2)\n",
        "soal1 = 2* np.dot(matrixA, matrixB)\n",
        "print(soal1)\n",
        "\n",
        "#soal 2 A*(invers dari (A+B)\n",
        "soal2 = np.dot(matrixA, np.linalg.inv(matrixA+matrixB))\n",
        "print(soal2)"
      ]
    }
  ]
}